{
 "cells": [
  {
   "cell_type": "code",
   "execution_count": 1,
   "metadata": {
    "collapsed": true
   },
   "outputs": [],
   "source": [
    "# Notebook to create a brand prediction model for Beauty & Health"
   ]
  },
  {
   "cell_type": "code",
   "execution_count": 2,
   "metadata": {
    "collapsed": false
   },
   "outputs": [
    {
     "data": {
      "text/html": [
       "<style>.container { width:100% !important; }</style>"
      ],
      "text/plain": [
       "<IPython.core.display.HTML object>"
      ]
     },
     "metadata": {},
     "output_type": "display_data"
    }
   ],
   "source": [
    "# Standard settings to make notebook more legible\n",
    "\n",
    "from IPython.core.display import display, HTML\n",
    "display(HTML(\"<style>.container { width:100% !important; }</style>\"))\n",
    "\n",
    "import pandas as pd\n",
    "import numpy as np\n",
    "\n",
    "pd.set_option('display.float_format', lambda x: '%.5f' % x)\n",
    "np.set_printoptions(precision=6,threshold=5000,linewidth=200,suppress=True)"
   ]
  },
  {
   "cell_type": "code",
   "execution_count": 3,
   "metadata": {
    "collapsed": true
   },
   "outputs": [],
   "source": [
    "# define column names and dtypes\n",
    "\n",
    "col_names = [\"id\",\"title\",\"description\",\"brand_id\",\"brand_name\",\"ean\",\"parent_id\",\"chunk_id\",\"brick_id\"]\n",
    "dtypes = {\"id\":object,\"title\":object,\"description\":object,\"brand_id\":object,\"brand_name\":object,\"ean\":object,\"parent_id\":object,\"chunk_id\":object,\"brick_id\":object}"
   ]
  },
  {
   "cell_type": "code",
   "execution_count": 4,
   "metadata": {
    "collapsed": false
   },
   "outputs": [],
   "source": [
    "data_orig = pd.read_csv(\"beauty_leverbaar_20160729.txt\",sep=\"\\t\",header=None,names=col_names,dtype=dtypes)\n",
    "data = data_orig"
   ]
  },
  {
   "cell_type": "code",
   "execution_count": 5,
   "metadata": {
    "collapsed": true
   },
   "outputs": [],
   "source": [
    "data_full = data[data['brand_id'].notnull()]\n",
    "data_null = data[data['brand_id'].isnull()]\n",
    "data_full.reset_index(inplace=True,drop=True)\n",
    "data_null.reset_index(inplace=True,drop=True)"
   ]
  },
  {
   "cell_type": "code",
   "execution_count": 6,
   "metadata": {
    "collapsed": true
   },
   "outputs": [],
   "source": [
    "# for category Beauty the title worked best as a predictor for the brand_id\n",
    "col_names_y = ['brand_id']\n",
    "col_names_X = ['title']"
   ]
  },
  {
   "cell_type": "code",
   "execution_count": 7,
   "metadata": {
    "collapsed": false
   },
   "outputs": [
    {
     "name": "stderr",
     "output_type": "stream",
     "text": [
      "/Users/svandenoord/anaconda3/lib/python3.5/site-packages/sklearn/cross_validation.py:516: Warning: The least populated class in y has only 1 members, which is too few. The minimum number of labels for any class cannot be less than n_folds=5.\n",
      "  % (min_labels, self.n_folds)), Warning)\n"
     ]
    }
   ],
   "source": [
    "from sklearn.cross_validation import StratifiedKFold\n",
    "kf = StratifiedKFold(data_full['brand_id'],n_folds=5,shuffle=True,random_state=42)"
   ]
  },
  {
   "cell_type": "code",
   "execution_count": 8,
   "metadata": {
    "collapsed": true
   },
   "outputs": [],
   "source": [
    "train_indices, test_indices = next(iter(kf))"
   ]
  },
  {
   "cell_type": "code",
   "execution_count": 9,
   "metadata": {
    "collapsed": true
   },
   "outputs": [],
   "source": [
    "X_train, y_train = data_full[col_names_X].loc[train_indices], data_full[col_names_y].loc[train_indices]\n",
    "X_test, y_test = data_full[col_names_X].loc[test_indices], data_full[col_names_y].loc[test_indices]"
   ]
  },
  {
   "cell_type": "code",
   "execution_count": 11,
   "metadata": {
    "collapsed": false
   },
   "outputs": [],
   "source": [
    "# SGDClassifier gives way better results than Multinomial Bayes\n",
    "\n",
    "from sklearn.pipeline import Pipeline\n",
    "from sklearn.feature_extraction.text import TfidfVectorizer\n",
    "from sklearn.linear_model import SGDClassifier\n",
    "\n",
    "pipeline = Pipeline([\n",
    "        ('tf_idf', TfidfVectorizer(strip_accents='unicode',ngram_range=(1,2),sublinear_tf=True)),\n",
    "        ('sgd', SGDClassifier(loss='modified_huber', verbose=0, n_iter=50))\n",
    "    ])"
   ]
  },
  {
   "cell_type": "code",
   "execution_count": 12,
   "metadata": {
    "collapsed": false
   },
   "outputs": [
    {
     "data": {
      "text/plain": [
       "Pipeline(steps=[('tf_idf', TfidfVectorizer(analyzer='word', binary=False, decode_error='strict',\n",
       "        dtype=<class 'numpy.int64'>, encoding='utf-8', input='content',\n",
       "        lowercase=True, max_df=1.0, max_features=None, min_df=1,\n",
       "        ngram_range=(1, 2), norm='l2', preprocessor=None, smooth_idf=True,\n",
       "...   penalty='l2', power_t=0.5, random_state=None, shuffle=True,\n",
       "       verbose=0, warm_start=False))])"
      ]
     },
     "execution_count": 12,
     "metadata": {},
     "output_type": "execute_result"
    }
   ],
   "source": [
    "pipeline.fit(X_train.values.ravel(),y_train.values.ravel())"
   ]
  },
  {
   "cell_type": "code",
   "execution_count": 13,
   "metadata": {
    "collapsed": false
   },
   "outputs": [
    {
     "name": "stdout",
     "output_type": "stream",
     "text": [
      "0.995693051106\n",
      "0.948275862069\n"
     ]
    }
   ],
   "source": [
    "# accuracy on test set is almost 95%\n",
    "\n",
    "from sklearn.metrics import accuracy_score\n",
    "\n",
    "print(accuracy_score(y_train.values.ravel(), pipeline.predict(X_train.values.ravel())))\n",
    "print(accuracy_score(y_test.values.ravel(), pipeline.predict(X_test.values.ravel())))"
   ]
  },
  {
   "cell_type": "code",
   "execution_count": 15,
   "metadata": {
    "collapsed": false
   },
   "outputs": [
    {
     "data": {
      "text/plain": [
       "['pipeline.pkl',\n",
       " 'pipeline.pkl_01.npy',\n",
       " 'pipeline.pkl_02.npy',\n",
       " 'pipeline.pkl_03.npy',\n",
       " 'pipeline.pkl_04.npy',\n",
       " 'pipeline.pkl_05.npy',\n",
       " 'pipeline.pkl_06.npy']"
      ]
     },
     "execution_count": 15,
     "metadata": {},
     "output_type": "execute_result"
    }
   ],
   "source": [
    "# with this we have a model to be used in the webapp\n",
    "\n",
    "from sklearn.externals import joblib\n",
    "\n",
    "joblib.dump(pipeline, 'pipeline.pkl')"
   ]
  },
  {
   "cell_type": "code",
   "execution_count": 16,
   "metadata": {
    "collapsed": true
   },
   "outputs": [],
   "source": [
    "pipeline = joblib.load('pipeline.pkl')"
   ]
  },
  {
   "cell_type": "code",
   "execution_count": 18,
   "metadata": {
    "collapsed": true
   },
   "outputs": [],
   "source": [
    "# this creates a brand translator also for use in the webapp\n",
    "# the model predicts brand_id's, so i need a dictionary to see which brand_names belong to the brand id\n",
    "\n",
    "brand_id_list = data_full['brand_id'].tolist()\n",
    "brand_name_list = data_full['brand_name'].tolist()\n",
    "\n",
    "brand_translator = {}\n",
    "for i in range(len(brand_id_list)):\n",
    "    if brand_translator.get(brand_id_list[i],None) is None:\n",
    "        brand_translator[brand_id_list[i]] = brand_name_list[i]\n",
    "        \n",
    "import pickle\n",
    "\n",
    "pickle.dump(brand_translator, open( \"brand_translator.pkl\", \"wb\" ) )"
   ]
  },
  {
   "cell_type": "code",
   "execution_count": 21,
   "metadata": {
    "collapsed": true
   },
   "outputs": [],
   "source": [
    "# brand_translator = pickle.load( open( \"brand_translator.pkl\", \"rb\" ) )"
   ]
  }
 ],
 "metadata": {
  "anaconda-cloud": {},
  "kernelspec": {
   "display_name": "Python [default]",
   "language": "python",
   "name": "python3"
  },
  "language_info": {
   "codemirror_mode": {
    "name": "ipython",
    "version": 3
   },
   "file_extension": ".py",
   "mimetype": "text/x-python",
   "name": "python",
   "nbconvert_exporter": "python",
   "pygments_lexer": "ipython3",
   "version": "3.5.2"
  }
 },
 "nbformat": 4,
 "nbformat_minor": 1
}
