{
 "cells": [
  {
   "cell_type": "code",
   "execution_count": 2,
   "metadata": {
    "collapsed": false
   },
   "outputs": [
    {
     "data": {
      "text/html": [
       "<style>.container { width:100% !important; }</style>"
      ],
      "text/plain": [
       "<IPython.core.display.HTML object>"
      ]
     },
     "metadata": {},
     "output_type": "display_data"
    }
   ],
   "source": [
    "from IPython.core.display import display, HTML\n",
    "display(HTML(\"<style>.container { width:100% !important; }</style>\"))\n",
    "\n",
    "import pandas as pd\n",
    "import numpy as np\n",
    "\n",
    "pd.set_option('display.float_format', lambda x: '%.5f' % x)\n",
    "np.set_printoptions(precision=6,threshold=5000,linewidth=200,suppress=True)"
   ]
  },
  {
   "cell_type": "code",
   "execution_count": 3,
   "metadata": {
    "collapsed": true
   },
   "outputs": [],
   "source": [
    "col_names = [\"id\",\"title\",\"description\",\"brand_id\",\"brand_name\",\"ean\",\"parent_id\",\"chunk_id\",\"brick_id\"]\n",
    "dtypes = {\"id\":object,\"title\":object,\"description\":object,\"brand_id\":object,\"brand_name\":object,\"ean\":object,\"parent_id\":object,\"chunk_id\":object,\"brick_id\":object}"
   ]
  },
  {
   "cell_type": "code",
   "execution_count": 4,
   "metadata": {
    "collapsed": true
   },
   "outputs": [],
   "source": [
    "data_orig = pd.read_csv(\"beauty_leverbaar_20160729.txt\",sep=\"\\t\",header=None,names=col_names,dtype=dtypes)\n",
    "data = data_orig"
   ]
  },
  {
   "cell_type": "code",
   "execution_count": 5,
   "metadata": {
    "collapsed": false
   },
   "outputs": [],
   "source": [
    "data_full = data[data['brand_id'].notnull()]\n",
    "data_null = data[data['brand_id'].isnull()]\n",
    "data_full.reset_index(inplace=True,drop=True)\n",
    "data_null.reset_index(inplace=True,drop=True)"
   ]
  },
  {
   "cell_type": "code",
   "execution_count": 6,
   "metadata": {
    "collapsed": true
   },
   "outputs": [],
   "source": [
    "col_names_y = ['brand_id']\n",
    "col_names_X = ['title']"
   ]
  },
  {
   "cell_type": "code",
   "execution_count": 7,
   "metadata": {
    "collapsed": false
   },
   "outputs": [
    {
     "name": "stderr",
     "output_type": "stream",
     "text": [
      "C:\\Datascience\\Anaconda\\lib\\site-packages\\sklearn\\cross_validation.py:516: Warning: The least populated class in y has only 1 members, which is too few. The minimum number of labels for any class cannot be less than n_folds=5.\n",
      "  % (min_labels, self.n_folds)), Warning)\n"
     ]
    }
   ],
   "source": [
    "from sklearn.cross_validation import StratifiedKFold\n",
    "kf = StratifiedKFold(data_full['brand_id'],n_folds=5,shuffle=True,random_state=42)"
   ]
  },
  {
   "cell_type": "code",
   "execution_count": 8,
   "metadata": {
    "collapsed": true
   },
   "outputs": [],
   "source": [
    "train_indices, test_indices = next(iter(kf))"
   ]
  },
  {
   "cell_type": "code",
   "execution_count": 9,
   "metadata": {
    "collapsed": true
   },
   "outputs": [],
   "source": [
    "X_train, y_train = data_full[col_names_X].loc[train_indices], data_full[col_names_y].loc[train_indices]\n",
    "X_test, y_test = data_full[col_names_X].loc[test_indices], data_full[col_names_y].loc[test_indices]"
   ]
  },
  {
   "cell_type": "code",
   "execution_count": 10,
   "metadata": {
    "collapsed": true
   },
   "outputs": [],
   "source": [
    "from sklearn.externals import joblib\n",
    "pipeline = joblib.load('pipeline.pkl')"
   ]
  },
  {
   "cell_type": "code",
   "execution_count": 11,
   "metadata": {
    "collapsed": true
   },
   "outputs": [],
   "source": [
    "probas = pipeline.predict_proba(X_test.values.ravel())"
   ]
  },
  {
   "cell_type": "code",
   "execution_count": 12,
   "metadata": {
    "collapsed": false
   },
   "outputs": [],
   "source": [
    "predicted_index = np.argsort(probas,axis=1)[:,-1]"
   ]
  },
  {
   "cell_type": "code",
   "execution_count": 13,
   "metadata": {
    "collapsed": true
   },
   "outputs": [],
   "source": [
    "predicted_proba = np.sort(probas,axis=1)[:,-1]"
   ]
  },
  {
   "cell_type": "code",
   "execution_count": 14,
   "metadata": {
    "collapsed": false
   },
   "outputs": [],
   "source": [
    "predicted_brandid = pipeline.named_steps['sgd'].classes_[predicted_index]"
   ]
  },
  {
   "cell_type": "code",
   "execution_count": 15,
   "metadata": {
    "collapsed": false
   },
   "outputs": [],
   "source": [
    "import cPickle as pickle\n",
    "brand_translator = pickle.load( open( \"brand_translator.pkl\", \"rb\" ) )"
   ]
  },
  {
   "cell_type": "code",
   "execution_count": 16,
   "metadata": {
    "collapsed": false
   },
   "outputs": [],
   "source": [
    "predicted_brandname = np.array([])\n",
    "\n",
    "for brand_id in predicted_brandid: \n",
    "    predicted_brandname = np.concatenate((predicted_brandname,np.array([brand_translator.get(brand_id,None)])))"
   ]
  },
  {
   "cell_type": "code",
   "execution_count": 17,
   "metadata": {
    "collapsed": false
   },
   "outputs": [
    {
     "data": {
      "text/plain": [
       "array(['Beurer', 'Slava Zaitsev', 'Vanderbilt', 'adidas', 'Nonchalance'], \n",
       "      dtype='|S32')"
      ]
     },
     "execution_count": 17,
     "metadata": {},
     "output_type": "execute_result"
    }
   ],
   "source": [
    "predicted_brandname[0:5]"
   ]
  },
  {
   "cell_type": "code",
   "execution_count": 18,
   "metadata": {
    "collapsed": false
   },
   "outputs": [
    {
     "data": {
      "text/html": [
       "<div>\n",
       "<table border=\"1\" class=\"dataframe\">\n",
       "  <thead>\n",
       "    <tr style=\"text-align: right;\">\n",
       "      <th></th>\n",
       "      <th>title</th>\n",
       "    </tr>\n",
       "  </thead>\n",
       "  <tbody>\n",
       "    <tr>\n",
       "      <th>0</th>\n",
       "      <td>Beurer BS69 Spiegel met Verlichting</td>\n",
       "    </tr>\n",
       "    <tr>\n",
       "      <th>4</th>\n",
       "      <td>Slava Zaitsev Maroussia for Women - 50 ml - Ea...</td>\n",
       "    </tr>\n",
       "    <tr>\n",
       "      <th>8</th>\n",
       "      <td>Gloria Vanderbilt for Women - 100 ml - Eau de ...</td>\n",
       "    </tr>\n",
       "  </tbody>\n",
       "</table>\n",
       "</div>"
      ],
      "text/plain": [
       "                                               title\n",
       "0                Beurer BS69 Spiegel met Verlichting\n",
       "4  Slava Zaitsev Maroussia for Women - 50 ml - Ea...\n",
       "8  Gloria Vanderbilt for Women - 100 ml - Eau de ..."
      ]
     },
     "execution_count": 18,
     "metadata": {},
     "output_type": "execute_result"
    }
   ],
   "source": [
    "X_test.head(3)"
   ]
  },
  {
   "cell_type": "code",
   "execution_count": 19,
   "metadata": {
    "collapsed": false
   },
   "outputs": [],
   "source": [
    "test_set = data_full[['id','title','brand_id','brand_name']].loc[test_indices]"
   ]
  },
  {
   "cell_type": "code",
   "execution_count": 20,
   "metadata": {
    "collapsed": true
   },
   "outputs": [],
   "source": [
    "test_set['predicted_proba'] = predicted_proba\n",
    "test_set['predicted_brandid'] = predicted_brandid\n",
    "test_set['predicted_brandname'] = predicted_brandname"
   ]
  },
  {
   "cell_type": "code",
   "execution_count": 21,
   "metadata": {
    "collapsed": false
   },
   "outputs": [],
   "source": [
    "test_set['correct'] = test_set['brand_id'].isin(test_set['predicted_brandid']) * 1"
   ]
  },
  {
   "cell_type": "code",
   "execution_count": 22,
   "metadata": {
    "collapsed": false
   },
   "outputs": [
    {
     "data": {
      "text/html": [
       "<div>\n",
       "<table border=\"1\" class=\"dataframe\">\n",
       "  <thead>\n",
       "    <tr style=\"text-align: right;\">\n",
       "      <th></th>\n",
       "      <th>id</th>\n",
       "      <th>title</th>\n",
       "      <th>brand_id</th>\n",
       "      <th>brand_name</th>\n",
       "      <th>predicted_proba</th>\n",
       "      <th>predicted_brandid</th>\n",
       "      <th>predicted_brandname</th>\n",
       "      <th>correct</th>\n",
       "    </tr>\n",
       "  </thead>\n",
       "  <tbody>\n",
       "    <tr>\n",
       "      <th>74</th>\n",
       "      <td>9200000005157420</td>\n",
       "      <td>Oralmedic Mouth Ulcer Treatment</td>\n",
       "      <td>7606679</td>\n",
       "      <td>Oce Bio</td>\n",
       "      <td>0.15850</td>\n",
       "      <td>14865613</td>\n",
       "      <td>Barry M Cosmetics</td>\n",
       "      <td>0</td>\n",
       "    </tr>\n",
       "    <tr>\n",
       "      <th>77</th>\n",
       "      <td>9200000005169061</td>\n",
       "      <td>Wetties Verfrissingsdoekjes Pocket Verpakking</td>\n",
       "      <td>7607134</td>\n",
       "      <td>Wetties</td>\n",
       "      <td>0.70011</td>\n",
       "      <td>7607134</td>\n",
       "      <td>Wetties</td>\n",
       "      <td>1</td>\n",
       "    </tr>\n",
       "    <tr>\n",
       "      <th>81</th>\n",
       "      <td>9200000005171871</td>\n",
       "      <td>Mentho-10 Mentholpoeder 2% - 75 ml - Huidontsm...</td>\n",
       "      <td>7606557</td>\n",
       "      <td>Mentho 10</td>\n",
       "      <td>0.51779</td>\n",
       "      <td>7606557</td>\n",
       "      <td>Mentho 10</td>\n",
       "      <td>1</td>\n",
       "    </tr>\n",
       "  </tbody>\n",
       "</table>\n",
       "</div>"
      ],
      "text/plain": [
       "                  id                                              title  \\\n",
       "74  9200000005157420                    Oralmedic Mouth Ulcer Treatment   \n",
       "77  9200000005169061      Wetties Verfrissingsdoekjes Pocket Verpakking   \n",
       "81  9200000005171871  Mentho-10 Mentholpoeder 2% - 75 ml - Huidontsm...   \n",
       "\n",
       "   brand_id brand_name  predicted_proba predicted_brandid predicted_brandname  \\\n",
       "74  7606679    Oce Bio          0.15850          14865613   Barry M Cosmetics   \n",
       "77  7607134    Wetties          0.70011           7607134             Wetties   \n",
       "81  7606557  Mentho 10          0.51779           7606557           Mentho 10   \n",
       "\n",
       "    correct  \n",
       "74        0  \n",
       "77        1  \n",
       "81        1  "
      ]
     },
     "execution_count": 22,
     "metadata": {},
     "output_type": "execute_result"
    }
   ],
   "source": [
    "test_set.iloc[20:23]"
   ]
  },
  {
   "cell_type": "code",
   "execution_count": 23,
   "metadata": {
    "collapsed": false
   },
   "outputs": [
    {
     "data": {
      "text/plain": [
       "([array([   3.,   20.,   19.,   36.,   32.,   61.,   64.,   78.,   87.,  101.,  129.,  158.,  208.,  286.,  340.,  394.,  637.,  849.,  822.,  528.]),\n",
       "  array([  11.,   46.,   37.,   44.,   44.,   73.,   71.,   89.,   94.,  103.,  134.,  160.,  213.,  286.,  344.,  398.,  637.,  853.,  822.,  529.])],\n",
       " array([ 0.023616,  0.072435,  0.121254,  0.170073,  0.218893,  0.267712,  0.316531,  0.36535 ,  0.414169,  0.462989,  0.511808,  0.560627,  0.609446,  0.658266,  0.707085,  0.755904,  0.804723,\n",
       "         0.853542,  0.902362,  0.951181,  1.      ]),\n",
       " <a list of 2 Lists of Patches objects>)"
      ]
     },
     "execution_count": 23,
     "metadata": {},
     "output_type": "execute_result"
    },
    {
     "data": {
      "image/png": "[encoded data removed]",
      "text/plain": [
       "<matplotlib.figure.Figure at 0xd987da0>"
      ]
     },
     "metadata": {},
     "output_type": "display_data"
    }
   ],
   "source": [
    "%matplotlib inline\n",
    "from matplotlib import pyplot as plt\n",
    "plt.hist([test_set['predicted_proba'][test_set['correct'] == 1],\n",
    "        test_set['predicted_proba'][test_set['correct'] == 0]],\n",
    "        stacked=True, color=['b','r'],\n",
    "        bins=20)"
   ]
  },
  {
   "cell_type": "code",
   "execution_count": 24,
   "metadata": {
    "collapsed": true
   },
   "outputs": [],
   "source": [
    "import seaborn as sns"
   ]
  },
  {
   "cell_type": "code",
   "execution_count": 25,
   "metadata": {
    "collapsed": false
   },
   "outputs": [
    {
     "data": {
      "text/plain": [
       "<matplotlib.axes._subplots.AxesSubplot at 0xe16aba8>"
      ]
     },
     "execution_count": 25,
     "metadata": {},
     "output_type": "execute_result"
    },
    {
     "data": {
      "image/png": "[encoded data removed]",
      "text/plain": [
       "<matplotlib.figure.Figure at 0xe16a4e0>"
      ]
     },
     "metadata": {},
     "output_type": "display_data"
    }
   ],
   "source": [
    "sns.distplot(test_set['predicted_proba'], bins=20, kde=False, hist=True, color=\"black\")"
   ]
  },
  {
   "cell_type": "code",
   "execution_count": 26,
   "metadata": {
    "collapsed": true
   },
   "outputs": [],
   "source": [
    "bins = np.linspace(0.05,1.0000000001,20)"
   ]
  },
  {
   "cell_type": "code",
   "execution_count": 29,
   "metadata": {
    "collapsed": false
   },
   "outputs": [
    {
     "data": {
      "text/plain": [
       "array([ 0.05,  0.1 ,  0.15,  0.2 ,  0.25,  0.3 ,  0.35,  0.4 ,  0.45,  0.5 ,  0.55,  0.6 ,  0.65,  0.7 ,  0.75,  0.8 ,  0.85,  0.9 ,  0.95,  1.  ])"
      ]
     },
     "execution_count": 29,
     "metadata": {},
     "output_type": "execute_result"
    }
   ],
   "source": [
    "bins"
   ]
  },
  {
   "cell_type": "code",
   "execution_count": 30,
   "metadata": {
    "collapsed": false
   },
   "outputs": [],
   "source": [
    "bin_digits = np.digitize(test_set['predicted_proba'],bins)"
   ]
  },
  {
   "cell_type": "code",
   "execution_count": 31,
   "metadata": {
    "collapsed": true
   },
   "outputs": [],
   "source": [
    "test_set['bin_digits'] = bin_digits"
   ]
  },
  {
   "cell_type": "code",
   "execution_count": 32,
   "metadata": {
    "collapsed": false
   },
   "outputs": [
    {
     "data": {
      "text/html": [
       "<div>\n",
       "<table border=\"1\" class=\"dataframe\">\n",
       "  <thead>\n",
       "    <tr style=\"text-align: right;\">\n",
       "      <th></th>\n",
       "      <th>id</th>\n",
       "      <th>title</th>\n",
       "      <th>brand_id</th>\n",
       "      <th>brand_name</th>\n",
       "      <th>predicted_proba</th>\n",
       "      <th>predicted_brandid</th>\n",
       "      <th>predicted_brandname</th>\n",
       "      <th>correct</th>\n",
       "      <th>bin_digits</th>\n",
       "    </tr>\n",
       "  </thead>\n",
       "  <tbody>\n",
       "    <tr>\n",
       "      <th>0</th>\n",
       "      <td>9000000012514720</td>\n",
       "      <td>Beurer BS69 Spiegel met Verlichting</td>\n",
       "      <td>4493486</td>\n",
       "      <td>Beurer</td>\n",
       "      <td>0.49110</td>\n",
       "      <td>4493486</td>\n",
       "      <td>Beurer</td>\n",
       "      <td>1</td>\n",
       "      <td>9</td>\n",
       "    </tr>\n",
       "    <tr>\n",
       "      <th>4</th>\n",
       "      <td>9200000005031799</td>\n",
       "      <td>Slava Zaitsev Maroussia for Women - 50 ml - Ea...</td>\n",
       "      <td>7903656</td>\n",
       "      <td>Slava Zaitsev</td>\n",
       "      <td>0.97815</td>\n",
       "      <td>7903656</td>\n",
       "      <td>Slava Zaitsev</td>\n",
       "      <td>1</td>\n",
       "      <td>19</td>\n",
       "    </tr>\n",
       "    <tr>\n",
       "      <th>8</th>\n",
       "      <td>9200000005031823</td>\n",
       "      <td>Gloria Vanderbilt for Women - 100 ml - Eau de ...</td>\n",
       "      <td>7452510</td>\n",
       "      <td>Vanderbilt</td>\n",
       "      <td>0.82910</td>\n",
       "      <td>7452510</td>\n",
       "      <td>Vanderbilt</td>\n",
       "      <td>1</td>\n",
       "      <td>16</td>\n",
       "    </tr>\n",
       "  </tbody>\n",
       "</table>\n",
       "</div>"
      ],
      "text/plain": [
       "                 id                                              title  \\\n",
       "0  9000000012514720                Beurer BS69 Spiegel met Verlichting   \n",
       "4  9200000005031799  Slava Zaitsev Maroussia for Women - 50 ml - Ea...   \n",
       "8  9200000005031823  Gloria Vanderbilt for Women - 100 ml - Eau de ...   \n",
       "\n",
       "  brand_id     brand_name  predicted_proba predicted_brandid  \\\n",
       "0  4493486         Beurer          0.49110           4493486   \n",
       "4  7903656  Slava Zaitsev          0.97815           7903656   \n",
       "8  7452510     Vanderbilt          0.82910           7452510   \n",
       "\n",
       "  predicted_brandname  correct  bin_digits  \n",
       "0              Beurer        1           9  \n",
       "4       Slava Zaitsev        1          19  \n",
       "8          Vanderbilt        1          16  "
      ]
     },
     "execution_count": 32,
     "metadata": {},
     "output_type": "execute_result"
    }
   ],
   "source": [
    "test_set.head(3)"
   ]
  },
  {
   "cell_type": "code",
   "execution_count": 33,
   "metadata": {
    "collapsed": false
   },
   "outputs": [],
   "source": [
    "groupby_correct = test_set.groupby(['correct','bin_digits'])"
   ]
  },
  {
   "cell_type": "code",
   "execution_count": 34,
   "metadata": {
    "collapsed": false
   },
   "outputs": [],
   "source": [
    "crosstab = groupby_correct['id'].count().reset_index()"
   ]
  },
  {
   "cell_type": "code",
   "execution_count": 35,
   "metadata": {
    "collapsed": false
   },
   "outputs": [
    {
     "data": {
      "text/html": [
       "<div>\n",
       "<table border=\"1\" class=\"dataframe\">\n",
       "  <thead>\n",
       "    <tr style=\"text-align: right;\">\n",
       "      <th></th>\n",
       "      <th>correct</th>\n",
       "      <th>bin_digits</th>\n",
       "      <th>id</th>\n",
       "    </tr>\n",
       "  </thead>\n",
       "  <tbody>\n",
       "    <tr>\n",
       "      <th>0</th>\n",
       "      <td>0</td>\n",
       "      <td>0</td>\n",
       "      <td>4</td>\n",
       "    </tr>\n",
       "    <tr>\n",
       "      <th>1</th>\n",
       "      <td>0</td>\n",
       "      <td>1</td>\n",
       "      <td>20</td>\n",
       "    </tr>\n",
       "    <tr>\n",
       "      <th>2</th>\n",
       "      <td>0</td>\n",
       "      <td>2</td>\n",
       "      <td>22</td>\n",
       "    </tr>\n",
       "    <tr>\n",
       "      <th>3</th>\n",
       "      <td>0</td>\n",
       "      <td>3</td>\n",
       "      <td>12</td>\n",
       "    </tr>\n",
       "    <tr>\n",
       "      <th>4</th>\n",
       "      <td>0</td>\n",
       "      <td>4</td>\n",
       "      <td>9</td>\n",
       "    </tr>\n",
       "  </tbody>\n",
       "</table>\n",
       "</div>"
      ],
      "text/plain": [
       "   correct  bin_digits  id\n",
       "0        0           0   4\n",
       "1        0           1  20\n",
       "2        0           2  22\n",
       "3        0           3  12\n",
       "4        0           4   9"
      ]
     },
     "execution_count": 35,
     "metadata": {},
     "output_type": "execute_result"
    }
   ],
   "source": [
    "crosstab.head(5)"
   ]
  },
  {
   "cell_type": "code",
   "execution_count": 36,
   "metadata": {
    "collapsed": true
   },
   "outputs": [],
   "source": [
    "crosstab[['correct', 'bin_digits']] = crosstab[['correct', 'bin_digits']].astype(object)"
   ]
  },
  {
   "cell_type": "code",
   "execution_count": 37,
   "metadata": {
    "collapsed": false
   },
   "outputs": [
    {
     "data": {
      "text/plain": [
       "correct       object\n",
       "bin_digits    object\n",
       "id             int64\n",
       "dtype: object"
      ]
     },
     "execution_count": 37,
     "metadata": {},
     "output_type": "execute_result"
    }
   ],
   "source": [
    "crosstab.dtypes"
   ]
  },
  {
   "cell_type": "code",
   "execution_count": 38,
   "metadata": {
    "collapsed": false
   },
   "outputs": [],
   "source": [
    "pd_crosstab = pd.crosstab(test_set['bin_digits'], test_set['correct'])"
   ]
  },
  {
   "cell_type": "code",
   "execution_count": 39,
   "metadata": {
    "collapsed": false
   },
   "outputs": [
    {
     "data": {
      "text/html": [
       "<div>\n",
       "<table border=\"1\" class=\"dataframe\">\n",
       "  <thead>\n",
       "    <tr style=\"text-align: right;\">\n",
       "      <th>correct</th>\n",
       "      <th>0</th>\n",
       "      <th>1</th>\n",
       "    </tr>\n",
       "    <tr>\n",
       "      <th>bin_digits</th>\n",
       "      <th></th>\n",
       "      <th></th>\n",
       "    </tr>\n",
       "  </thead>\n",
       "  <tbody>\n",
       "    <tr>\n",
       "      <th>0</th>\n",
       "      <td>4</td>\n",
       "      <td>1</td>\n",
       "    </tr>\n",
       "    <tr>\n",
       "      <th>1</th>\n",
       "      <td>20</td>\n",
       "      <td>13</td>\n",
       "    </tr>\n",
       "    <tr>\n",
       "      <th>2</th>\n",
       "      <td>22</td>\n",
       "      <td>20</td>\n",
       "    </tr>\n",
       "  </tbody>\n",
       "</table>\n",
       "</div>"
      ],
      "text/plain": [
       "correct      0   1\n",
       "bin_digits        \n",
       "0            4   1\n",
       "1           20  13\n",
       "2           22  20"
      ]
     },
     "execution_count": 39,
     "metadata": {},
     "output_type": "execute_result"
    }
   ],
   "source": [
    "pd_crosstab.head(3)"
   ]
  },
  {
   "cell_type": "code",
   "execution_count": 40,
   "metadata": {
    "collapsed": true
   },
   "outputs": [],
   "source": [
    "pd_crosstab['total'] = pd_crosstab[0] + pd_crosstab[1]"
   ]
  },
  {
   "cell_type": "code",
   "execution_count": 41,
   "metadata": {
    "collapsed": true
   },
   "outputs": [],
   "source": [
    "pd_crosstab['perc_correct'] = pd_crosstab[1] / pd_crosstab['total']"
   ]
  },
  {
   "cell_type": "code",
   "execution_count": 42,
   "metadata": {
    "collapsed": false
   },
   "outputs": [],
   "source": [
    "pd_crosstab['upper_limit'] = pd_crosstab.index * 0.05 + 0.05\n",
    "pd_crosstab['lower_limit'] = pd_crosstab.index * 0.05"
   ]
  },
  {
   "cell_type": "code",
   "execution_count": 43,
   "metadata": {
    "collapsed": false
   },
   "outputs": [],
   "source": [
    "pd_crosstab = pd_crosstab[['lower_limit','upper_limit',0,1,'total','perc_correct']]"
   ]
  },
  {
   "cell_type": "code",
   "execution_count": 44,
   "metadata": {
    "collapsed": false
   },
   "outputs": [
    {
     "data": {
      "text/html": [
       "<div>\n",
       "<table border=\"1\" class=\"dataframe\">\n",
       "  <thead>\n",
       "    <tr style=\"text-align: right;\">\n",
       "      <th>correct</th>\n",
       "      <th>lower_limit</th>\n",
       "      <th>upper_limit</th>\n",
       "      <th>0</th>\n",
       "      <th>1</th>\n",
       "      <th>total</th>\n",
       "      <th>perc_correct</th>\n",
       "    </tr>\n",
       "    <tr>\n",
       "      <th>bin_digits</th>\n",
       "      <th></th>\n",
       "      <th></th>\n",
       "      <th></th>\n",
       "      <th></th>\n",
       "      <th></th>\n",
       "      <th></th>\n",
       "    </tr>\n",
       "  </thead>\n",
       "  <tbody>\n",
       "    <tr>\n",
       "      <th>0</th>\n",
       "      <td>0.00000</td>\n",
       "      <td>0.05000</td>\n",
       "      <td>4</td>\n",
       "      <td>1</td>\n",
       "      <td>5</td>\n",
       "      <td>0.20000</td>\n",
       "    </tr>\n",
       "    <tr>\n",
       "      <th>1</th>\n",
       "      <td>0.05000</td>\n",
       "      <td>0.10000</td>\n",
       "      <td>20</td>\n",
       "      <td>13</td>\n",
       "      <td>33</td>\n",
       "      <td>0.39394</td>\n",
       "    </tr>\n",
       "    <tr>\n",
       "      <th>2</th>\n",
       "      <td>0.10000</td>\n",
       "      <td>0.15000</td>\n",
       "      <td>22</td>\n",
       "      <td>20</td>\n",
       "      <td>42</td>\n",
       "      <td>0.47619</td>\n",
       "    </tr>\n",
       "    <tr>\n",
       "      <th>3</th>\n",
       "      <td>0.15000</td>\n",
       "      <td>0.20000</td>\n",
       "      <td>12</td>\n",
       "      <td>26</td>\n",
       "      <td>38</td>\n",
       "      <td>0.68421</td>\n",
       "    </tr>\n",
       "    <tr>\n",
       "      <th>4</th>\n",
       "      <td>0.20000</td>\n",
       "      <td>0.25000</td>\n",
       "      <td>9</td>\n",
       "      <td>40</td>\n",
       "      <td>49</td>\n",
       "      <td>0.81633</td>\n",
       "    </tr>\n",
       "    <tr>\n",
       "      <th>5</th>\n",
       "      <td>0.25000</td>\n",
       "      <td>0.30000</td>\n",
       "      <td>10</td>\n",
       "      <td>48</td>\n",
       "      <td>58</td>\n",
       "      <td>0.82759</td>\n",
       "    </tr>\n",
       "    <tr>\n",
       "      <th>6</th>\n",
       "      <td>0.30000</td>\n",
       "      <td>0.35000</td>\n",
       "      <td>13</td>\n",
       "      <td>68</td>\n",
       "      <td>81</td>\n",
       "      <td>0.83951</td>\n",
       "    </tr>\n",
       "    <tr>\n",
       "      <th>7</th>\n",
       "      <td>0.35000</td>\n",
       "      <td>0.40000</td>\n",
       "      <td>9</td>\n",
       "      <td>74</td>\n",
       "      <td>83</td>\n",
       "      <td>0.89157</td>\n",
       "    </tr>\n",
       "    <tr>\n",
       "      <th>8</th>\n",
       "      <td>0.40000</td>\n",
       "      <td>0.45000</td>\n",
       "      <td>8</td>\n",
       "      <td>86</td>\n",
       "      <td>94</td>\n",
       "      <td>0.91489</td>\n",
       "    </tr>\n",
       "    <tr>\n",
       "      <th>9</th>\n",
       "      <td>0.45000</td>\n",
       "      <td>0.50000</td>\n",
       "      <td>4</td>\n",
       "      <td>98</td>\n",
       "      <td>102</td>\n",
       "      <td>0.96078</td>\n",
       "    </tr>\n",
       "    <tr>\n",
       "      <th>10</th>\n",
       "      <td>0.50000</td>\n",
       "      <td>0.55000</td>\n",
       "      <td>5</td>\n",
       "      <td>122</td>\n",
       "      <td>127</td>\n",
       "      <td>0.96063</td>\n",
       "    </tr>\n",
       "    <tr>\n",
       "      <th>11</th>\n",
       "      <td>0.55000</td>\n",
       "      <td>0.60000</td>\n",
       "      <td>2</td>\n",
       "      <td>163</td>\n",
       "      <td>165</td>\n",
       "      <td>0.98788</td>\n",
       "    </tr>\n",
       "    <tr>\n",
       "      <th>12</th>\n",
       "      <td>0.60000</td>\n",
       "      <td>0.65000</td>\n",
       "      <td>5</td>\n",
       "      <td>203</td>\n",
       "      <td>208</td>\n",
       "      <td>0.97596</td>\n",
       "    </tr>\n",
       "    <tr>\n",
       "      <th>13</th>\n",
       "      <td>0.65000</td>\n",
       "      <td>0.70000</td>\n",
       "      <td>0</td>\n",
       "      <td>270</td>\n",
       "      <td>270</td>\n",
       "      <td>1.00000</td>\n",
       "    </tr>\n",
       "    <tr>\n",
       "      <th>14</th>\n",
       "      <td>0.70000</td>\n",
       "      <td>0.75000</td>\n",
       "      <td>4</td>\n",
       "      <td>340</td>\n",
       "      <td>344</td>\n",
       "      <td>0.98837</td>\n",
       "    </tr>\n",
       "    <tr>\n",
       "      <th>15</th>\n",
       "      <td>0.75000</td>\n",
       "      <td>0.80000</td>\n",
       "      <td>4</td>\n",
       "      <td>397</td>\n",
       "      <td>401</td>\n",
       "      <td>0.99002</td>\n",
       "    </tr>\n",
       "    <tr>\n",
       "      <th>16</th>\n",
       "      <td>0.80000</td>\n",
       "      <td>0.85000</td>\n",
       "      <td>0</td>\n",
       "      <td>632</td>\n",
       "      <td>632</td>\n",
       "      <td>1.00000</td>\n",
       "    </tr>\n",
       "    <tr>\n",
       "      <th>17</th>\n",
       "      <td>0.85000</td>\n",
       "      <td>0.90000</td>\n",
       "      <td>3</td>\n",
       "      <td>848</td>\n",
       "      <td>851</td>\n",
       "      <td>0.99647</td>\n",
       "    </tr>\n",
       "    <tr>\n",
       "      <th>18</th>\n",
       "      <td>0.90000</td>\n",
       "      <td>0.95000</td>\n",
       "      <td>1</td>\n",
       "      <td>859</td>\n",
       "      <td>860</td>\n",
       "      <td>0.99884</td>\n",
       "    </tr>\n",
       "    <tr>\n",
       "      <th>19</th>\n",
       "      <td>0.95000</td>\n",
       "      <td>1.00000</td>\n",
       "      <td>1</td>\n",
       "      <td>544</td>\n",
       "      <td>545</td>\n",
       "      <td>0.99817</td>\n",
       "    </tr>\n",
       "  </tbody>\n",
       "</table>\n",
       "</div>"
      ],
      "text/plain": [
       "correct     lower_limit  upper_limit   0    1  total  perc_correct\n",
       "bin_digits                                                        \n",
       "0               0.00000      0.05000   4    1      5       0.20000\n",
       "1               0.05000      0.10000  20   13     33       0.39394\n",
       "2               0.10000      0.15000  22   20     42       0.47619\n",
       "3               0.15000      0.20000  12   26     38       0.68421\n",
       "4               0.20000      0.25000   9   40     49       0.81633\n",
       "5               0.25000      0.30000  10   48     58       0.82759\n",
       "6               0.30000      0.35000  13   68     81       0.83951\n",
       "7               0.35000      0.40000   9   74     83       0.89157\n",
       "8               0.40000      0.45000   8   86     94       0.91489\n",
       "9               0.45000      0.50000   4   98    102       0.96078\n",
       "10              0.50000      0.55000   5  122    127       0.96063\n",
       "11              0.55000      0.60000   2  163    165       0.98788\n",
       "12              0.60000      0.65000   5  203    208       0.97596\n",
       "13              0.65000      0.70000   0  270    270       1.00000\n",
       "14              0.70000      0.75000   4  340    344       0.98837\n",
       "15              0.75000      0.80000   4  397    401       0.99002\n",
       "16              0.80000      0.85000   0  632    632       1.00000\n",
       "17              0.85000      0.90000   3  848    851       0.99647\n",
       "18              0.90000      0.95000   1  859    860       0.99884\n",
       "19              0.95000      1.00000   1  544    545       0.99817"
      ]
     },
     "execution_count": 44,
     "metadata": {},
     "output_type": "execute_result"
    }
   ],
   "source": [
    "pd_crosstab"
   ]
  },
  {
   "cell_type": "code",
   "execution_count": 45,
   "metadata": {
    "collapsed": false
   },
   "outputs": [
    {
     "data": {
      "text/html": [
       "<div>\n",
       "<table border=\"1\" class=\"dataframe\">\n",
       "  <thead>\n",
       "    <tr style=\"text-align: right;\">\n",
       "      <th>correct</th>\n",
       "      <th>lower_limit</th>\n",
       "      <th>perc_correct</th>\n",
       "    </tr>\n",
       "    <tr>\n",
       "      <th>bin_digits</th>\n",
       "      <th></th>\n",
       "      <th></th>\n",
       "    </tr>\n",
       "  </thead>\n",
       "  <tbody>\n",
       "    <tr>\n",
       "      <th>0</th>\n",
       "      <td>0.00000</td>\n",
       "      <td>0.20000</td>\n",
       "    </tr>\n",
       "    <tr>\n",
       "      <th>1</th>\n",
       "      <td>0.05000</td>\n",
       "      <td>0.39394</td>\n",
       "    </tr>\n",
       "    <tr>\n",
       "      <th>2</th>\n",
       "      <td>0.10000</td>\n",
       "      <td>0.47619</td>\n",
       "    </tr>\n",
       "    <tr>\n",
       "      <th>3</th>\n",
       "      <td>0.15000</td>\n",
       "      <td>0.68421</td>\n",
       "    </tr>\n",
       "    <tr>\n",
       "      <th>4</th>\n",
       "      <td>0.20000</td>\n",
       "      <td>0.81633</td>\n",
       "    </tr>\n",
       "    <tr>\n",
       "      <th>5</th>\n",
       "      <td>0.25000</td>\n",
       "      <td>0.82759</td>\n",
       "    </tr>\n",
       "    <tr>\n",
       "      <th>6</th>\n",
       "      <td>0.30000</td>\n",
       "      <td>0.83951</td>\n",
       "    </tr>\n",
       "    <tr>\n",
       "      <th>7</th>\n",
       "      <td>0.35000</td>\n",
       "      <td>0.89157</td>\n",
       "    </tr>\n",
       "    <tr>\n",
       "      <th>8</th>\n",
       "      <td>0.40000</td>\n",
       "      <td>0.91489</td>\n",
       "    </tr>\n",
       "    <tr>\n",
       "      <th>9</th>\n",
       "      <td>0.45000</td>\n",
       "      <td>0.96078</td>\n",
       "    </tr>\n",
       "    <tr>\n",
       "      <th>10</th>\n",
       "      <td>0.50000</td>\n",
       "      <td>0.96063</td>\n",
       "    </tr>\n",
       "    <tr>\n",
       "      <th>11</th>\n",
       "      <td>0.55000</td>\n",
       "      <td>0.98788</td>\n",
       "    </tr>\n",
       "    <tr>\n",
       "      <th>12</th>\n",
       "      <td>0.60000</td>\n",
       "      <td>0.97596</td>\n",
       "    </tr>\n",
       "    <tr>\n",
       "      <th>13</th>\n",
       "      <td>0.65000</td>\n",
       "      <td>1.00000</td>\n",
       "    </tr>\n",
       "    <tr>\n",
       "      <th>14</th>\n",
       "      <td>0.70000</td>\n",
       "      <td>0.98837</td>\n",
       "    </tr>\n",
       "    <tr>\n",
       "      <th>15</th>\n",
       "      <td>0.75000</td>\n",
       "      <td>0.99002</td>\n",
       "    </tr>\n",
       "    <tr>\n",
       "      <th>16</th>\n",
       "      <td>0.80000</td>\n",
       "      <td>1.00000</td>\n",
       "    </tr>\n",
       "    <tr>\n",
       "      <th>17</th>\n",
       "      <td>0.85000</td>\n",
       "      <td>0.99647</td>\n",
       "    </tr>\n",
       "    <tr>\n",
       "      <th>18</th>\n",
       "      <td>0.90000</td>\n",
       "      <td>0.99884</td>\n",
       "    </tr>\n",
       "    <tr>\n",
       "      <th>19</th>\n",
       "      <td>0.95000</td>\n",
       "      <td>0.99817</td>\n",
       "    </tr>\n",
       "  </tbody>\n",
       "</table>\n",
       "</div>"
      ],
      "text/plain": [
       "correct     lower_limit  perc_correct\n",
       "bin_digits                           \n",
       "0               0.00000       0.20000\n",
       "1               0.05000       0.39394\n",
       "2               0.10000       0.47619\n",
       "3               0.15000       0.68421\n",
       "4               0.20000       0.81633\n",
       "5               0.25000       0.82759\n",
       "6               0.30000       0.83951\n",
       "7               0.35000       0.89157\n",
       "8               0.40000       0.91489\n",
       "9               0.45000       0.96078\n",
       "10              0.50000       0.96063\n",
       "11              0.55000       0.98788\n",
       "12              0.60000       0.97596\n",
       "13              0.65000       1.00000\n",
       "14              0.70000       0.98837\n",
       "15              0.75000       0.99002\n",
       "16              0.80000       1.00000\n",
       "17              0.85000       0.99647\n",
       "18              0.90000       0.99884\n",
       "19              0.95000       0.99817"
      ]
     },
     "execution_count": 45,
     "metadata": {},
     "output_type": "execute_result"
    }
   ],
   "source": [
    "pd_crosstab[['lower_limit','perc_correct']]"
   ]
  },
  {
   "cell_type": "code",
   "execution_count": 46,
   "metadata": {
    "collapsed": false
   },
   "outputs": [
    {
     "data": {
      "image/png": "[encoded data removed]",
      "text/plain": [
       "<matplotlib.figure.Figure at 0xe15dbe0>"
      ]
     },
     "metadata": {},
     "output_type": "display_data"
    }
   ],
   "source": [
    "# 0.55 lijkt een goede grens om voorspellingen gewoon door te laten.\n",
    "\n",
    "sns.set(font_scale=1.25)\n",
    "ax = sns.factorplot(x='lower_limit', y='perc_correct', kind=\"bar\", data=pd_crosstab, saturation=1.0, size=8, color=\"#3366cc\", aspect=2)\n",
    "#ax.set(xlabel='% dat model zeker is van merk', ylabel='% merk correct voorspeld door model')\n",
    "ax.set(xlabel='', ylabel='')\n",
    "plt.show()"
   ]
  },
  {
   "cell_type": "code",
   "execution_count": 47,
   "metadata": {
    "collapsed": false
   },
   "outputs": [],
   "source": [
    "key = pd_crosstab['lower_limit'] >= 0.55\n",
    "key2 = pd_crosstab['lower_limit'] >= 0.20\n",
    "\n",
    "key_group = pd_crosstab.groupby([key,key2])"
   ]
  },
  {
   "cell_type": "code",
   "execution_count": 48,
   "metadata": {
    "collapsed": false
   },
   "outputs": [
    {
     "data": {
      "text/html": [
       "<div>\n",
       "<table border=\"1\" class=\"dataframe\">\n",
       "  <thead>\n",
       "    <tr style=\"text-align: right;\">\n",
       "      <th></th>\n",
       "      <th>correct</th>\n",
       "      <th>1</th>\n",
       "      <th>total</th>\n",
       "    </tr>\n",
       "    <tr>\n",
       "      <th>lower_limit</th>\n",
       "      <th>lower_limit</th>\n",
       "      <th></th>\n",
       "      <th></th>\n",
       "    </tr>\n",
       "  </thead>\n",
       "  <tbody>\n",
       "    <tr>\n",
       "      <th rowspan=\"2\" valign=\"top\">False</th>\n",
       "      <th>False</th>\n",
       "      <td>60</td>\n",
       "      <td>118</td>\n",
       "    </tr>\n",
       "    <tr>\n",
       "      <th>True</th>\n",
       "      <td>536</td>\n",
       "      <td>594</td>\n",
       "    </tr>\n",
       "    <tr>\n",
       "      <th>True</th>\n",
       "      <th>True</th>\n",
       "      <td>4256</td>\n",
       "      <td>4276</td>\n",
       "    </tr>\n",
       "  </tbody>\n",
       "</table>\n",
       "</div>"
      ],
      "text/plain": [
       "correct                     1  total\n",
       "lower_limit lower_limit             \n",
       "False       False          60    118\n",
       "            True          536    594\n",
       "True        True         4256   4276"
      ]
     },
     "execution_count": 48,
     "metadata": {},
     "output_type": "execute_result"
    }
   ],
   "source": [
    "key_group_agg = key_group[[1,'total']].sum()\n",
    "key_group_agg"
   ]
  },
  {
   "cell_type": "code",
   "execution_count": 49,
   "metadata": {
    "collapsed": false
   },
   "outputs": [
    {
     "data": {
      "text/html": [
       "<div>\n",
       "<table border=\"1\" class=\"dataframe\">\n",
       "  <thead>\n",
       "    <tr style=\"text-align: right;\">\n",
       "      <th></th>\n",
       "      <th>correct</th>\n",
       "      <th>1</th>\n",
       "      <th>total</th>\n",
       "      <th>perc_correct</th>\n",
       "    </tr>\n",
       "    <tr>\n",
       "      <th>lower_limit</th>\n",
       "      <th>lower_limit</th>\n",
       "      <th></th>\n",
       "      <th></th>\n",
       "      <th></th>\n",
       "    </tr>\n",
       "  </thead>\n",
       "  <tbody>\n",
       "    <tr>\n",
       "      <th rowspan=\"2\" valign=\"top\">False</th>\n",
       "      <th>False</th>\n",
       "      <td>60</td>\n",
       "      <td>118</td>\n",
       "      <td>0.50847</td>\n",
       "    </tr>\n",
       "    <tr>\n",
       "      <th>True</th>\n",
       "      <td>536</td>\n",
       "      <td>594</td>\n",
       "      <td>0.90236</td>\n",
       "    </tr>\n",
       "    <tr>\n",
       "      <th>True</th>\n",
       "      <th>True</th>\n",
       "      <td>4256</td>\n",
       "      <td>4276</td>\n",
       "      <td>0.99532</td>\n",
       "    </tr>\n",
       "  </tbody>\n",
       "</table>\n",
       "</div>"
      ],
      "text/plain": [
       "correct                     1  total  perc_correct\n",
       "lower_limit lower_limit                           \n",
       "False       False          60    118       0.50847\n",
       "            True          536    594       0.90236\n",
       "True        True         4256   4276       0.99532"
      ]
     },
     "execution_count": 49,
     "metadata": {},
     "output_type": "execute_result"
    }
   ],
   "source": [
    "key_group_agg['perc_correct'] = key_group_agg[1] / key_group_agg['total'] \n",
    "key_group_agg"
   ]
  },
  {
   "cell_type": "code",
   "execution_count": 50,
   "metadata": {
    "collapsed": true
   },
   "outputs": [],
   "source": [
    "from sklearn.metrics import precision_recall_curve as prc"
   ]
  },
  {
   "cell_type": "code",
   "execution_count": 51,
   "metadata": {
    "collapsed": false
   },
   "outputs": [],
   "source": [
    "precision, recall, thresholds = prc(y_true=test_set['correct'], probas_pred=test_set['predicted_proba'])"
   ]
  },
  {
   "cell_type": "code",
   "execution_count": 52,
   "metadata": {
    "collapsed": false
   },
   "outputs": [
    {
     "data": {
      "image/png": "[encoded data removed]",
      "text/plain": [
       "<matplotlib.figure.Figure at 0xe788978>"
      ]
     },
     "metadata": {},
     "output_type": "display_data"
    }
   ],
   "source": [
    "import matplotlib.pyplot as plt\n",
    "%matplotlib inline\n",
    "plt.plot(recall, precision, label='Precision-Recall curve')\n",
    "plt.xlabel('Recall')\n",
    "plt.ylabel('Precision')\n",
    "plt.ylim([0.6, 1.01])\n",
    "plt.xlim([0.6, 1.01])\n",
    "plt.title('Precision-Recall example: AUC')\n",
    "plt.legend(loc=\"lower left\")\n",
    "plt.show()"
   ]
  },
  {
   "cell_type": "code",
   "execution_count": 53,
   "metadata": {
    "collapsed": false
   },
   "outputs": [],
   "source": [
    "probas_null = pipeline.predict_proba(data_null['title'])"
   ]
  },
  {
   "cell_type": "code",
   "execution_count": 54,
   "metadata": {
    "collapsed": false
   },
   "outputs": [
    {
     "data": {
      "text/plain": [
       "(931L, 1019L)"
      ]
     },
     "execution_count": 54,
     "metadata": {},
     "output_type": "execute_result"
    }
   ],
   "source": [
    "probas_null.shape"
   ]
  },
  {
   "cell_type": "code",
   "execution_count": 55,
   "metadata": {
    "collapsed": true
   },
   "outputs": [],
   "source": [
    "predicted_index_null = np.argsort(probas_null,axis=1)[:,-1]\n",
    "predicted_proba_null = np.sort(probas_null,axis=1)[:,-1]\n",
    "predicted_brandid_null = pipeline.named_steps['sgd'].classes_[predicted_index_null]\n",
    "\n",
    "predicted_brandname_null = np.array([])\n",
    "\n",
    "for brand_id in predicted_brandid_null: \n",
    "    predicted_brandname_null = np.concatenate((predicted_brandname_null,np.array([brand_translator.get(brand_id,None)])))"
   ]
  },
  {
   "cell_type": "code",
   "execution_count": 56,
   "metadata": {
    "collapsed": false
   },
   "outputs": [
    {
     "name": "stderr",
     "output_type": "stream",
     "text": [
      "C:\\Datascience\\Anaconda\\lib\\site-packages\\ipykernel\\__main__.py:2: SettingWithCopyWarning: \n",
      "A value is trying to be set on a copy of a slice from a DataFrame.\n",
      "Try using .loc[row_indexer,col_indexer] = value instead\n",
      "\n",
      "See the caveats in the documentation: http://pandas.pydata.org/pandas-docs/stable/indexing.html#indexing-view-versus-copy\n",
      "  from ipykernel import kernelapp as app\n",
      "C:\\Datascience\\Anaconda\\lib\\site-packages\\ipykernel\\__main__.py:3: SettingWithCopyWarning: \n",
      "A value is trying to be set on a copy of a slice from a DataFrame.\n",
      "Try using .loc[row_indexer,col_indexer] = value instead\n",
      "\n",
      "See the caveats in the documentation: http://pandas.pydata.org/pandas-docs/stable/indexing.html#indexing-view-versus-copy\n",
      "  app.launch_new_instance()\n",
      "C:\\Datascience\\Anaconda\\lib\\site-packages\\ipykernel\\__main__.py:4: SettingWithCopyWarning: \n",
      "A value is trying to be set on a copy of a slice from a DataFrame.\n",
      "Try using .loc[row_indexer,col_indexer] = value instead\n",
      "\n",
      "See the caveats in the documentation: http://pandas.pydata.org/pandas-docs/stable/indexing.html#indexing-view-versus-copy\n"
     ]
    }
   ],
   "source": [
    "null_set = data_null[['id','title','brand_id','brand_name']]\n",
    "null_set['predicted_proba'] = predicted_proba_null\n",
    "null_set['predicted_brandid'] = predicted_brandid_null\n",
    "null_set['predicted_brandname'] = predicted_brandname_null"
   ]
  },
  {
   "cell_type": "code",
   "execution_count": 58,
   "metadata": {
    "collapsed": false
   },
   "outputs": [
    {
     "name": "stderr",
     "output_type": "stream",
     "text": [
      "C:\\Datascience\\Anaconda\\lib\\site-packages\\ipykernel\\__main__.py:1: UserWarning: Boolean Series key will be reindexed to match DataFrame index.\n",
      "  if __name__ == '__main__':\n"
     ]
    },
    {
     "data": {
      "text/html": [
       "<div>\n",
       "<table border=\"1\" class=\"dataframe\">\n",
       "  <thead>\n",
       "    <tr style=\"text-align: right;\">\n",
       "      <th></th>\n",
       "      <th>id</th>\n",
       "      <th>title</th>\n",
       "      <th>brand_id</th>\n",
       "      <th>brand_name</th>\n",
       "      <th>predicted_proba</th>\n",
       "      <th>predicted_brandid</th>\n",
       "      <th>predicted_brandname</th>\n",
       "    </tr>\n",
       "  </thead>\n",
       "  <tbody>\n",
       "    <tr>\n",
       "      <th>203</th>\n",
       "      <td>9200000054927708</td>\n",
       "      <td>Guerlain Terracotta Joli Teint Powder Duo 10 gr</td>\n",
       "      <td>NaN</td>\n",
       "      <td>NaN</td>\n",
       "      <td>0.54797</td>\n",
       "      <td>7877545</td>\n",
       "      <td>Guerlain</td>\n",
       "    </tr>\n",
       "    <tr>\n",
       "      <th>674</th>\n",
       "      <td>9200000054927718</td>\n",
       "      <td>Guerlain Terracotta Joli Teint Powder Duo 10 gr</td>\n",
       "      <td>NaN</td>\n",
       "      <td>NaN</td>\n",
       "      <td>0.54797</td>\n",
       "      <td>7877545</td>\n",
       "      <td>Guerlain</td>\n",
       "    </tr>\n",
       "    <tr>\n",
       "      <th>281</th>\n",
       "      <td>9200000056970409</td>\n",
       "      <td>Dkny be delicious london woman edp 50 ml spray</td>\n",
       "      <td>NaN</td>\n",
       "      <td>NaN</td>\n",
       "      <td>0.54469</td>\n",
       "      <td>7819619</td>\n",
       "      <td>DKNY</td>\n",
       "    </tr>\n",
       "    <tr>\n",
       "      <th>277</th>\n",
       "      <td>9200000056665684</td>\n",
       "      <td>Loewe - AGUA LOEWE edt vaporizador 50 ml</td>\n",
       "      <td>NaN</td>\n",
       "      <td>NaN</td>\n",
       "      <td>0.54324</td>\n",
       "      <td>1846198</td>\n",
       "      <td>Loewe</td>\n",
       "    </tr>\n",
       "    <tr>\n",
       "      <th>626</th>\n",
       "      <td>9200000052201153</td>\n",
       "      <td>Cetaphil milde reiniger 460 ml</td>\n",
       "      <td>NaN</td>\n",
       "      <td>NaN</td>\n",
       "      <td>0.54287</td>\n",
       "      <td>7606046</td>\n",
       "      <td>Cetaphil</td>\n",
       "    </tr>\n",
       "    <tr>\n",
       "      <th>794</th>\n",
       "      <td>9200000058282989</td>\n",
       "      <td>Donna Karan DKNY Women Summer 2016 Eau de toil...</td>\n",
       "      <td>NaN</td>\n",
       "      <td>NaN</td>\n",
       "      <td>0.54264</td>\n",
       "      <td>676257</td>\n",
       "      <td>DKNY</td>\n",
       "    </tr>\n",
       "    <tr>\n",
       "      <th>123</th>\n",
       "      <td>9200000051601696</td>\n",
       "      <td>OPI Wraped Wild for the Holidays - 2 x 15 ml -...</td>\n",
       "      <td>NaN</td>\n",
       "      <td>NaN</td>\n",
       "      <td>0.54083</td>\n",
       "      <td>12916880</td>\n",
       "      <td>OPI</td>\n",
       "    </tr>\n",
       "    <tr>\n",
       "      <th>122</th>\n",
       "      <td>9200000051601692</td>\n",
       "      <td>OPI Wrapped Wild for the Holidays - 2 x 15 ml ...</td>\n",
       "      <td>NaN</td>\n",
       "      <td>NaN</td>\n",
       "      <td>0.54083</td>\n",
       "      <td>12916880</td>\n",
       "      <td>OPI</td>\n",
       "    </tr>\n",
       "    <tr>\n",
       "      <th>341</th>\n",
       "      <td>9200000058756533</td>\n",
       "      <td>Diadermine Hydraterende reinigingsdoekjes - 1 ...</td>\n",
       "      <td>NaN</td>\n",
       "      <td>NaN</td>\n",
       "      <td>0.54038</td>\n",
       "      <td>7452199</td>\n",
       "      <td>Diadermine</td>\n",
       "    </tr>\n",
       "    <tr>\n",
       "      <th>792</th>\n",
       "      <td>9200000058263593</td>\n",
       "      <td>Black Musk Eau De Parfum 50 ml</td>\n",
       "      <td>NaN</td>\n",
       "      <td>NaN</td>\n",
       "      <td>0.54027</td>\n",
       "      <td>7584574</td>\n",
       "      <td>Alyssa Ashley</td>\n",
       "    </tr>\n",
       "  </tbody>\n",
       "</table>\n",
       "</div>"
      ],
      "text/plain": [
       "                   id                                              title  \\\n",
       "203  9200000054927708    Guerlain Terracotta Joli Teint Powder Duo 10 gr   \n",
       "674  9200000054927718    Guerlain Terracotta Joli Teint Powder Duo 10 gr   \n",
       "281  9200000056970409     Dkny be delicious london woman edp 50 ml spray   \n",
       "277  9200000056665684           Loewe - AGUA LOEWE edt vaporizador 50 ml   \n",
       "626  9200000052201153                     Cetaphil milde reiniger 460 ml   \n",
       "794  9200000058282989  Donna Karan DKNY Women Summer 2016 Eau de toil...   \n",
       "123  9200000051601696  OPI Wraped Wild for the Holidays - 2 x 15 ml -...   \n",
       "122  9200000051601692  OPI Wrapped Wild for the Holidays - 2 x 15 ml ...   \n",
       "341  9200000058756533  Diadermine Hydraterende reinigingsdoekjes - 1 ...   \n",
       "792  9200000058263593                     Black Musk Eau De Parfum 50 ml   \n",
       "\n",
       "    brand_id brand_name  predicted_proba predicted_brandid predicted_brandname  \n",
       "203      NaN        NaN          0.54797           7877545            Guerlain  \n",
       "674      NaN        NaN          0.54797           7877545            Guerlain  \n",
       "281      NaN        NaN          0.54469           7819619                DKNY  \n",
       "277      NaN        NaN          0.54324           1846198               Loewe  \n",
       "626      NaN        NaN          0.54287           7606046            Cetaphil  \n",
       "794      NaN        NaN          0.54264            676257                DKNY  \n",
       "123      NaN        NaN          0.54083          12916880                 OPI  \n",
       "122      NaN        NaN          0.54083          12916880                 OPI  \n",
       "341      NaN        NaN          0.54038           7452199          Diadermine  \n",
       "792      NaN        NaN          0.54027           7584574       Alyssa Ashley  "
      ]
     },
     "execution_count": 58,
     "metadata": {},
     "output_type": "execute_result"
    }
   ],
   "source": [
    "null_set.sort_values(by='predicted_proba', ascending=False)[(null_set['predicted_proba'] <= 0.55) & (null_set['predicted_proba'] >= 0.0)].head(10)"
   ]
  },
  {
   "cell_type": "code",
   "execution_count": 59,
   "metadata": {
    "collapsed": false
   },
   "outputs": [
    {
     "data": {
      "text/plain": [
       "predicted_proba\n",
       "False    495\n",
       "True     436\n",
       "dtype: int64"
      ]
     },
     "execution_count": 59,
     "metadata": {},
     "output_type": "execute_result"
    }
   ],
   "source": [
    "key = null_set['predicted_proba'] >= 0.55\n",
    "null_set['id'].groupby(key).count()"
   ]
  },
  {
   "cell_type": "code",
   "execution_count": 60,
   "metadata": {
    "collapsed": false
   },
   "outputs": [
    {
     "data": {
      "text/plain": [
       "0.4683136412459721"
      ]
     },
     "execution_count": 60,
     "metadata": {},
     "output_type": "execute_result"
    }
   ],
   "source": [
    "436 / (436 + 495.0)"
   ]
  },
  {
   "cell_type": "code",
   "execution_count": 61,
   "metadata": {
    "collapsed": false
   },
   "outputs": [
    {
     "data": {
      "text/plain": [
       "0.037302668483051526"
      ]
     },
     "execution_count": 61,
     "metadata": {},
     "output_type": "execute_result"
    }
   ],
   "source": [
    "len(data_null) * 1.0 / len(data)"
   ]
  },
  {
   "cell_type": "code",
   "execution_count": 62,
   "metadata": {
    "collapsed": true
   },
   "outputs": [],
   "source": [
    "bin_digits_null = np.digitize(null_set['predicted_proba'], bins)"
   ]
  },
  {
   "cell_type": "code",
   "execution_count": 63,
   "metadata": {
    "collapsed": false
   },
   "outputs": [
    {
     "name": "stderr",
     "output_type": "stream",
     "text": [
      "C:\\Datascience\\Anaconda\\lib\\site-packages\\ipykernel\\__main__.py:1: SettingWithCopyWarning: \n",
      "A value is trying to be set on a copy of a slice from a DataFrame.\n",
      "Try using .loc[row_indexer,col_indexer] = value instead\n",
      "\n",
      "See the caveats in the documentation: http://pandas.pydata.org/pandas-docs/stable/indexing.html#indexing-view-versus-copy\n",
      "  if __name__ == '__main__':\n"
     ]
    }
   ],
   "source": [
    "null_set['bins'] = bin_digits_null"
   ]
  },
  {
   "cell_type": "code",
   "execution_count": 64,
   "metadata": {
    "collapsed": true
   },
   "outputs": [],
   "source": [
    "null_set['lower_limit'] = null_set['bins'] * 0.05"
   ]
  },
  {
   "cell_type": "code",
   "execution_count": 65,
   "metadata": {
    "collapsed": false
   },
   "outputs": [
    {
     "data": {
      "text/html": [
       "<div>\n",
       "<table border=\"1\" class=\"dataframe\">\n",
       "  <thead>\n",
       "    <tr style=\"text-align: right;\">\n",
       "      <th></th>\n",
       "      <th>id</th>\n",
       "      <th>title</th>\n",
       "      <th>brand_id</th>\n",
       "      <th>brand_name</th>\n",
       "      <th>predicted_proba</th>\n",
       "      <th>predicted_brandid</th>\n",
       "      <th>predicted_brandname</th>\n",
       "      <th>bins</th>\n",
       "      <th>lower_limit</th>\n",
       "    </tr>\n",
       "  </thead>\n",
       "  <tbody>\n",
       "    <tr>\n",
       "      <th>0</th>\n",
       "      <td>1004004012991345</td>\n",
       "      <td>Create The Look Lipgloss Set</td>\n",
       "      <td>NaN</td>\n",
       "      <td>NaN</td>\n",
       "      <td>0.12296</td>\n",
       "      <td>9647926</td>\n",
       "      <td>Disney Minnie</td>\n",
       "      <td>2</td>\n",
       "      <td>0.10000</td>\n",
       "    </tr>\n",
       "    <tr>\n",
       "      <th>1</th>\n",
       "      <td>9200000008610843</td>\n",
       "      <td>Hugo Boss Botteld Night After Shave Balm</td>\n",
       "      <td>NaN</td>\n",
       "      <td>NaN</td>\n",
       "      <td>0.64952</td>\n",
       "      <td>7819590</td>\n",
       "      <td>Hugo Boss</td>\n",
       "      <td>12</td>\n",
       "      <td>0.60000</td>\n",
       "    </tr>\n",
       "    <tr>\n",
       "      <th>2</th>\n",
       "      <td>9200000011681157</td>\n",
       "      <td>LANCASTER SUMMER SPLASH EDT 100ML  NEW</td>\n",
       "      <td>NaN</td>\n",
       "      <td>NaN</td>\n",
       "      <td>0.45926</td>\n",
       "      <td>1062882</td>\n",
       "      <td>Lancaster</td>\n",
       "      <td>9</td>\n",
       "      <td>0.45000</td>\n",
       "    </tr>\n",
       "  </tbody>\n",
       "</table>\n",
       "</div>"
      ],
      "text/plain": [
       "                 id                                     title brand_id  \\\n",
       "0  1004004012991345              Create The Look Lipgloss Set      NaN   \n",
       "1  9200000008610843  Hugo Boss Botteld Night After Shave Balm      NaN   \n",
       "2  9200000011681157    LANCASTER SUMMER SPLASH EDT 100ML  NEW      NaN   \n",
       "\n",
       "  brand_name  predicted_proba predicted_brandid predicted_brandname  bins  \\\n",
       "0        NaN          0.12296           9647926       Disney Minnie     2   \n",
       "1        NaN          0.64952           7819590           Hugo Boss    12   \n",
       "2        NaN          0.45926           1062882           Lancaster     9   \n",
       "\n",
       "   lower_limit  \n",
       "0      0.10000  \n",
       "1      0.60000  \n",
       "2      0.45000  "
      ]
     },
     "execution_count": 65,
     "metadata": {},
     "output_type": "execute_result"
    }
   ],
   "source": [
    "null_set.head(3)"
   ]
  },
  {
   "cell_type": "code",
   "execution_count": 68,
   "metadata": {
    "collapsed": false
   },
   "outputs": [
    {
     "data": {
      "text/plain": [
       "<matplotlib.axes._subplots.AxesSubplot at 0x182eabe0>"
      ]
     },
     "execution_count": 68,
     "metadata": {},
     "output_type": "execute_result"
    },
    {
     "data": {
      "image/png": "[encoded data removed]",
      "text/plain": [
       "<matplotlib.figure.Figure at 0x182daef0>"
      ]
     },
     "metadata": {},
     "output_type": "display_data"
    }
   ],
   "source": [
    "sns.countplot(x='lower_limit', data=null_set)"
   ]
  },
  {
   "cell_type": "code",
   "execution_count": 69,
   "metadata": {
    "collapsed": false
   },
   "outputs": [
    {
     "data": {
      "text/html": [
       "<div>\n",
       "<table border=\"1\" class=\"dataframe\">\n",
       "  <thead>\n",
       "    <tr style=\"text-align: right;\">\n",
       "      <th></th>\n",
       "      <th>lower_limit</th>\n",
       "      <th>id</th>\n",
       "    </tr>\n",
       "  </thead>\n",
       "  <tbody>\n",
       "    <tr>\n",
       "      <th>0</th>\n",
       "      <td>0.00000</td>\n",
       "      <td>7</td>\n",
       "    </tr>\n",
       "    <tr>\n",
       "      <th>1</th>\n",
       "      <td>0.05000</td>\n",
       "      <td>39</td>\n",
       "    </tr>\n",
       "    <tr>\n",
       "      <th>2</th>\n",
       "      <td>0.10000</td>\n",
       "      <td>81</td>\n",
       "    </tr>\n",
       "    <tr>\n",
       "      <th>3</th>\n",
       "      <td>0.15000</td>\n",
       "      <td>83</td>\n",
       "    </tr>\n",
       "    <tr>\n",
       "      <th>4</th>\n",
       "      <td>0.20000</td>\n",
       "      <td>52</td>\n",
       "    </tr>\n",
       "    <tr>\n",
       "      <th>5</th>\n",
       "      <td>0.25000</td>\n",
       "      <td>49</td>\n",
       "    </tr>\n",
       "    <tr>\n",
       "      <th>6</th>\n",
       "      <td>0.30000</td>\n",
       "      <td>26</td>\n",
       "    </tr>\n",
       "    <tr>\n",
       "      <th>7</th>\n",
       "      <td>0.35000</td>\n",
       "      <td>33</td>\n",
       "    </tr>\n",
       "    <tr>\n",
       "      <th>8</th>\n",
       "      <td>0.40000</td>\n",
       "      <td>44</td>\n",
       "    </tr>\n",
       "    <tr>\n",
       "      <th>9</th>\n",
       "      <td>0.45000</td>\n",
       "      <td>36</td>\n",
       "    </tr>\n",
       "    <tr>\n",
       "      <th>10</th>\n",
       "      <td>0.50000</td>\n",
       "      <td>45</td>\n",
       "    </tr>\n",
       "    <tr>\n",
       "      <th>11</th>\n",
       "      <td>0.55000</td>\n",
       "      <td>31</td>\n",
       "    </tr>\n",
       "    <tr>\n",
       "      <th>12</th>\n",
       "      <td>0.60000</td>\n",
       "      <td>55</td>\n",
       "    </tr>\n",
       "    <tr>\n",
       "      <th>13</th>\n",
       "      <td>0.65000</td>\n",
       "      <td>52</td>\n",
       "    </tr>\n",
       "    <tr>\n",
       "      <th>14</th>\n",
       "      <td>0.70000</td>\n",
       "      <td>70</td>\n",
       "    </tr>\n",
       "    <tr>\n",
       "      <th>15</th>\n",
       "      <td>0.75000</td>\n",
       "      <td>71</td>\n",
       "    </tr>\n",
       "    <tr>\n",
       "      <th>16</th>\n",
       "      <td>0.80000</td>\n",
       "      <td>60</td>\n",
       "    </tr>\n",
       "    <tr>\n",
       "      <th>17</th>\n",
       "      <td>0.85000</td>\n",
       "      <td>58</td>\n",
       "    </tr>\n",
       "    <tr>\n",
       "      <th>18</th>\n",
       "      <td>0.90000</td>\n",
       "      <td>33</td>\n",
       "    </tr>\n",
       "    <tr>\n",
       "      <th>19</th>\n",
       "      <td>0.95000</td>\n",
       "      <td>6</td>\n",
       "    </tr>\n",
       "  </tbody>\n",
       "</table>\n",
       "</div>"
      ],
      "text/plain": [
       "    lower_limit  id\n",
       "0       0.00000   7\n",
       "1       0.05000  39\n",
       "2       0.10000  81\n",
       "3       0.15000  83\n",
       "4       0.20000  52\n",
       "5       0.25000  49\n",
       "6       0.30000  26\n",
       "7       0.35000  33\n",
       "8       0.40000  44\n",
       "9       0.45000  36\n",
       "10      0.50000  45\n",
       "11      0.55000  31\n",
       "12      0.60000  55\n",
       "13      0.65000  52\n",
       "14      0.70000  70\n",
       "15      0.75000  71\n",
       "16      0.80000  60\n",
       "17      0.85000  58\n",
       "18      0.90000  33\n",
       "19      0.95000   6"
      ]
     },
     "execution_count": 69,
     "metadata": {},
     "output_type": "execute_result"
    }
   ],
   "source": [
    "null_set.groupby('lower_limit').count()['id'].reset_index()"
   ]
  },
  {
   "cell_type": "code",
   "execution_count": 77,
   "metadata": {
    "collapsed": false
   },
   "outputs": [
    {
     "data": {
      "text/html": [
       "<div>\n",
       "<table border=\"1\" class=\"dataframe\">\n",
       "  <thead>\n",
       "    <tr style=\"text-align: right;\">\n",
       "      <th></th>\n",
       "      <th>id</th>\n",
       "      <th>title</th>\n",
       "      <th>brand_id</th>\n",
       "      <th>brand_name</th>\n",
       "      <th>predicted_proba</th>\n",
       "      <th>predicted_brandid</th>\n",
       "      <th>predicted_brandname</th>\n",
       "      <th>bins</th>\n",
       "      <th>lower_limit</th>\n",
       "    </tr>\n",
       "  </thead>\n",
       "  <tbody>\n",
       "    <tr>\n",
       "      <th>145</th>\n",
       "      <td>9200000051917119</td>\n",
       "      <td>Loreal - Glam Shine 6H - Lipgloss - 200 6H Mauve</td>\n",
       "      <td>NaN</td>\n",
       "      <td>NaN</td>\n",
       "      <td>0.86233</td>\n",
       "      <td>12925562</td>\n",
       "      <td>L’Oréal Paris</td>\n",
       "      <td>17</td>\n",
       "      <td>0.85000</td>\n",
       "    </tr>\n",
       "    <tr>\n",
       "      <th>365</th>\n",
       "      <td>9200000058937657</td>\n",
       "      <td>Yves Saint Laurent L'Homme Libre - Cologne Ton...</td>\n",
       "      <td>NaN</td>\n",
       "      <td>NaN</td>\n",
       "      <td>0.85168</td>\n",
       "      <td>941800</td>\n",
       "      <td>Yves Saint Laurent</td>\n",
       "      <td>17</td>\n",
       "      <td>0.85000</td>\n",
       "    </tr>\n",
       "    <tr>\n",
       "      <th>156</th>\n",
       "      <td>9200000052198283</td>\n",
       "      <td>Annemarie Borlind Poederrouge Rose Del21</td>\n",
       "      <td>NaN</td>\n",
       "      <td>NaN</td>\n",
       "      <td>0.85503</td>\n",
       "      <td>7584652</td>\n",
       "      <td>Annemarie Börlind</td>\n",
       "      <td>17</td>\n",
       "      <td>0.85000</td>\n",
       "    </tr>\n",
       "    <tr>\n",
       "      <th>206</th>\n",
       "      <td>9200000055359131</td>\n",
       "      <td>Acqua Di Parma - ACQUA DI PARMA deo vaporizado...</td>\n",
       "      <td>NaN</td>\n",
       "      <td>NaN</td>\n",
       "      <td>0.85316</td>\n",
       "      <td>12960856</td>\n",
       "      <td>Acqua Di Parma</td>\n",
       "      <td>17</td>\n",
       "      <td>0.85000</td>\n",
       "    </tr>\n",
       "    <tr>\n",
       "      <th>210</th>\n",
       "      <td>9200000055359153</td>\n",
       "      <td>Acqua Di Parma - MAGNOLIA NOBILE deo vaporizad...</td>\n",
       "      <td>NaN</td>\n",
       "      <td>NaN</td>\n",
       "      <td>0.86727</td>\n",
       "      <td>12960856</td>\n",
       "      <td>Acqua Di Parma</td>\n",
       "      <td>17</td>\n",
       "      <td>0.85000</td>\n",
       "    </tr>\n",
       "  </tbody>\n",
       "</table>\n",
       "</div>"
      ],
      "text/plain": [
       "                   id                                              title  \\\n",
       "145  9200000051917119   Loreal - Glam Shine 6H - Lipgloss - 200 6H Mauve   \n",
       "365  9200000058937657  Yves Saint Laurent L'Homme Libre - Cologne Ton...   \n",
       "156  9200000052198283           Annemarie Borlind Poederrouge Rose Del21   \n",
       "206  9200000055359131  Acqua Di Parma - ACQUA DI PARMA deo vaporizado...   \n",
       "210  9200000055359153  Acqua Di Parma - MAGNOLIA NOBILE deo vaporizad...   \n",
       "\n",
       "    brand_id brand_name  predicted_proba predicted_brandid  \\\n",
       "145      NaN        NaN          0.86233          12925562   \n",
       "365      NaN        NaN          0.85168            941800   \n",
       "156      NaN        NaN          0.85503           7584652   \n",
       "206      NaN        NaN          0.85316          12960856   \n",
       "210      NaN        NaN          0.86727          12960856   \n",
       "\n",
       "    predicted_brandname  bins  lower_limit  \n",
       "145       L’Oréal Paris    17      0.85000  \n",
       "365  Yves Saint Laurent    17      0.85000  \n",
       "156   Annemarie Börlind    17      0.85000  \n",
       "206      Acqua Di Parma    17      0.85000  \n",
       "210      Acqua Di Parma    17      0.85000  "
      ]
     },
     "execution_count": 77,
     "metadata": {},
     "output_type": "execute_result"
    }
   ],
   "source": [
    "null_set.sort_values(by='lower_limit', ascending=False).iloc[50:55]"
   ]
  },
  {
   "cell_type": "code",
   "execution_count": 267,
   "metadata": {
    "collapsed": false
   },
   "outputs": [],
   "source": [
    "null_set.to_csv(\"20161021_BeautyProducten_zonderMerk_Predictions.csv\")"
   ]
  }
 ],
 "metadata": {
  "kernelspec": {
   "display_name": "Python [conda root]",
   "language": "python",
   "name": "conda-root-py"
  },
  "language_info": {
   "codemirror_mode": {
    "name": "ipython",
    "version": 3
   },
   "file_extension": ".py",
   "mimetype": "text/x-python",
   "name": "python",
   "nbconvert_exporter": "python",
   "pygments_lexer": "ipython3",
   "version": "3.5.2"
  }
 },
 "nbformat": 4,
 "nbformat_minor": 0
}
